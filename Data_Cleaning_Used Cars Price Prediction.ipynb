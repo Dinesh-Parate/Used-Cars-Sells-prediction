{
 "cells": [
  {
   "cell_type": "markdown",
   "metadata": {},
   "source": [
    "## Introduction"
   ]
  },
  {
   "cell_type": "markdown",
   "metadata": {},
   "source": [
    "Content\n",
    " \n",
    "\n",
    "The following is the description of the dataset 20 attributes:\n",
    "\n",
    "\n",
    "•\tdateCrawled:  The date when this advertisement was first crawled, all field-values were obtained on this date.\n",
    "\n",
    "•\tname: \"name\" of the car.\n",
    "\n",
    "•\tseller:  seller type – private or dealer.\n",
    "\n",
    "•\tofferType: Offer Type - offer or request.\n",
    "\n",
    "•\tprice: the price in Euro on the advertisement to sell the car.\n",
    "\n",
    "•\tabtest: abtest category - test or control\n",
    "\n",
    "•\tvehicleType: vehicle body type - limousine, small car, station wagon, bus, cabrio, coupe, suv, other.\n",
    "\n",
    "•\tyearOfRegistration: At what year the car was first registered - the age of the car.\n",
    "\n",
    "•\tTransmission: Transmission Type - manual or automatic.\n",
    "\n",
    "•\tpowerPS: Car Engine Power in PS\n",
    "\n",
    "•\tmodel: car model.\n",
    "\n",
    "•\tKilometer: car mileage in kilometer.\n",
    "\n",
    "•\tmonthOfRegistration: the month of the year the car was first registered.\n",
    "\n",
    "•\tfuelType: Fuel Type - gas, diesel, autogas, compressed natural gas, hybrid, other, or electric.\n",
    "\n",
    "•\tBrand: car brand\n",
    "\n",
    "•\tnotRepairedDamage: Unrepaired Damage - yes or no.\n",
    "\n",
    "•\tdateCreated: The date the ad was created on Ebay-Kleinanzeigen.\n",
    "\n",
    "•\tnrOfPictures: number of pictures in the ad\n",
    "\n",
    "•\tpostalCode: car seller postal code \n",
    "\n",
    "•\tlastSeen: when the crawler saw this ad last online\n",
    "\n"
   ]
  },
  {
   "cell_type": "markdown",
   "metadata": {},
   "source": [
    "## Required Libraries and dataset"
   ]
  },
  {
   "cell_type": "code",
   "execution_count": 17,
   "metadata": {},
   "outputs": [],
   "source": [
    "# Load the pandas,numpy,matplotlib and other required libraries with an import statement\n",
    "import pandas as pd                # importing pandas as pd\n",
    "import numpy as np                 # importing numpy as np    \n",
    "import matplotlib.pyplot as plt    #importing matplotlib as plt\n",
    "import seaborn as sns              #importing seaborn as sns\n",
    "%matplotlib inline\n",
    "import datetime\n",
    "from dateutil.relativedelta import relativedelta\n",
    "from datetime import date\n",
    "from datetime import time"
   ]
  },
  {
   "cell_type": "code",
   "execution_count": 18,
   "metadata": {
    "scrolled": true
   },
   "outputs": [],
   "source": [
    "df = pd.read_csv('auto_convert.csv', sep=',',low_memory=False, encoding ='latin-1')"
   ]
  },
  {
   "cell_type": "code",
   "execution_count": 19,
   "metadata": {},
   "outputs": [
    {
     "data": {
      "text/html": [
       "<div>\n",
       "<style scoped>\n",
       "    .dataframe tbody tr th:only-of-type {\n",
       "        vertical-align: middle;\n",
       "    }\n",
       "\n",
       "    .dataframe tbody tr th {\n",
       "        vertical-align: top;\n",
       "    }\n",
       "\n",
       "    .dataframe thead th {\n",
       "        text-align: right;\n",
       "    }\n",
       "</style>\n",
       "<table border=\"1\" class=\"dataframe\">\n",
       "  <thead>\n",
       "    <tr style=\"text-align: right;\">\n",
       "      <th></th>\n",
       "      <th>dateCrawled</th>\n",
       "      <th>name</th>\n",
       "      <th>seller</th>\n",
       "      <th>offerType</th>\n",
       "      <th>price</th>\n",
       "      <th>abtest</th>\n",
       "      <th>vehicleType</th>\n",
       "      <th>yearOfRegistration</th>\n",
       "      <th>gearbox</th>\n",
       "      <th>powerPS</th>\n",
       "      <th>model</th>\n",
       "      <th>kilometer</th>\n",
       "      <th>monthOfRegistration</th>\n",
       "      <th>fuelType</th>\n",
       "      <th>brand</th>\n",
       "      <th>notRepairedDamage</th>\n",
       "      <th>dateCreated</th>\n",
       "      <th>nrOfPictures</th>\n",
       "      <th>postalCode</th>\n",
       "      <th>lastSeen</th>\n",
       "    </tr>\n",
       "  </thead>\n",
       "  <tbody>\n",
       "    <tr>\n",
       "      <th>0</th>\n",
       "      <td>24-03-16 11:52</td>\n",
       "      <td>Golf_3_1.6</td>\n",
       "      <td>private</td>\n",
       "      <td>offer</td>\n",
       "      <td>480.0</td>\n",
       "      <td>test</td>\n",
       "      <td>NaN</td>\n",
       "      <td>1993.0</td>\n",
       "      <td>manual</td>\n",
       "      <td>0.0</td>\n",
       "      <td>golf</td>\n",
       "      <td>150000</td>\n",
       "      <td>0.0</td>\n",
       "      <td>gas</td>\n",
       "      <td>volkswagen</td>\n",
       "      <td>NaN</td>\n",
       "      <td>24-03-16 0:00</td>\n",
       "      <td>0.0</td>\n",
       "      <td>70435.0</td>\n",
       "      <td>07-04-16 3:16</td>\n",
       "    </tr>\n",
       "    <tr>\n",
       "      <th>1</th>\n",
       "      <td>24-03-16 10:58</td>\n",
       "      <td>A5_Sportback_2.7_Tdi</td>\n",
       "      <td>private</td>\n",
       "      <td>offer</td>\n",
       "      <td>18300.0</td>\n",
       "      <td>test</td>\n",
       "      <td>coupe</td>\n",
       "      <td>2011.0</td>\n",
       "      <td>manual</td>\n",
       "      <td>190.0</td>\n",
       "      <td>NaN</td>\n",
       "      <td>125000</td>\n",
       "      <td>5.0</td>\n",
       "      <td>diesel</td>\n",
       "      <td>audi</td>\n",
       "      <td>yes</td>\n",
       "      <td>24-03-16 0:00</td>\n",
       "      <td>0.0</td>\n",
       "      <td>66954.0</td>\n",
       "      <td>07-04-16 1:46</td>\n",
       "    </tr>\n",
       "    <tr>\n",
       "      <th>2</th>\n",
       "      <td>14-03-16 12:52</td>\n",
       "      <td>Jeep_Grand_Cherokee_\"Overland\"</td>\n",
       "      <td>private</td>\n",
       "      <td>offer</td>\n",
       "      <td>9800.0</td>\n",
       "      <td>test</td>\n",
       "      <td>suv</td>\n",
       "      <td>2004.0</td>\n",
       "      <td>automatic</td>\n",
       "      <td>163.0</td>\n",
       "      <td>grand</td>\n",
       "      <td>125000</td>\n",
       "      <td>8.0</td>\n",
       "      <td>diesel</td>\n",
       "      <td>jeep</td>\n",
       "      <td>NaN</td>\n",
       "      <td>14-03-16 0:00</td>\n",
       "      <td>0.0</td>\n",
       "      <td>90480.0</td>\n",
       "      <td>05-04-16 12:47</td>\n",
       "    </tr>\n",
       "    <tr>\n",
       "      <th>3</th>\n",
       "      <td>17-03-16 16:54</td>\n",
       "      <td>GOLF_4_1_4__3TÃRER</td>\n",
       "      <td>private</td>\n",
       "      <td>offer</td>\n",
       "      <td>1500.0</td>\n",
       "      <td>test</td>\n",
       "      <td>small car</td>\n",
       "      <td>2001.0</td>\n",
       "      <td>manual</td>\n",
       "      <td>75.0</td>\n",
       "      <td>golf</td>\n",
       "      <td>150000</td>\n",
       "      <td>6.0</td>\n",
       "      <td>gas</td>\n",
       "      <td>volkswagen</td>\n",
       "      <td>no</td>\n",
       "      <td>17-03-16 0:00</td>\n",
       "      <td>0.0</td>\n",
       "      <td>91074.0</td>\n",
       "      <td>17-03-16 17:40</td>\n",
       "    </tr>\n",
       "    <tr>\n",
       "      <th>4</th>\n",
       "      <td>31-03-16 17:25</td>\n",
       "      <td>Skoda_Fabia_1.4_TDI_PD_Classic</td>\n",
       "      <td>private</td>\n",
       "      <td>offer</td>\n",
       "      <td>3600.0</td>\n",
       "      <td>test</td>\n",
       "      <td>small car</td>\n",
       "      <td>2008.0</td>\n",
       "      <td>manual</td>\n",
       "      <td>69.0</td>\n",
       "      <td>fabia</td>\n",
       "      <td>90000</td>\n",
       "      <td>7.0</td>\n",
       "      <td>diesel</td>\n",
       "      <td>skoda</td>\n",
       "      <td>no</td>\n",
       "      <td>31-03-16 0:00</td>\n",
       "      <td>0.0</td>\n",
       "      <td>60437.0</td>\n",
       "      <td>06-04-16 10:17</td>\n",
       "    </tr>\n",
       "  </tbody>\n",
       "</table>\n",
       "</div>"
      ],
      "text/plain": [
       "      dateCrawled                            name   seller offerType    price  \\\n",
       "0  24-03-16 11:52                      Golf_3_1.6  private     offer    480.0   \n",
       "1  24-03-16 10:58            A5_Sportback_2.7_Tdi  private     offer  18300.0   \n",
       "2  14-03-16 12:52  Jeep_Grand_Cherokee_\"Overland\"  private     offer   9800.0   \n",
       "3  17-03-16 16:54             GOLF_4_1_4__3TÃRER  private     offer   1500.0   \n",
       "4  31-03-16 17:25  Skoda_Fabia_1.4_TDI_PD_Classic  private     offer   3600.0   \n",
       "\n",
       "  abtest vehicleType  yearOfRegistration    gearbox  powerPS  model kilometer  \\\n",
       "0   test         NaN              1993.0     manual      0.0   golf    150000   \n",
       "1   test       coupe              2011.0     manual    190.0    NaN    125000   \n",
       "2   test         suv              2004.0  automatic    163.0  grand    125000   \n",
       "3   test   small car              2001.0     manual     75.0   golf    150000   \n",
       "4   test   small car              2008.0     manual     69.0  fabia     90000   \n",
       "\n",
       "   monthOfRegistration fuelType       brand notRepairedDamage    dateCreated  \\\n",
       "0                  0.0      gas  volkswagen               NaN  24-03-16 0:00   \n",
       "1                  5.0   diesel        audi               yes  24-03-16 0:00   \n",
       "2                  8.0   diesel        jeep               NaN  14-03-16 0:00   \n",
       "3                  6.0      gas  volkswagen                no  17-03-16 0:00   \n",
       "4                  7.0   diesel       skoda                no  31-03-16 0:00   \n",
       "\n",
       "   nrOfPictures  postalCode        lastSeen  \n",
       "0           0.0     70435.0   07-04-16 3:16  \n",
       "1           0.0     66954.0   07-04-16 1:46  \n",
       "2           0.0     90480.0  05-04-16 12:47  \n",
       "3           0.0     91074.0  17-03-16 17:40  \n",
       "4           0.0     60437.0  06-04-16 10:17  "
      ]
     },
     "execution_count": 19,
     "metadata": {},
     "output_type": "execute_result"
    }
   ],
   "source": [
    "df.head()"
   ]
  },
  {
   "cell_type": "markdown",
   "metadata": {},
   "source": [
    "## Knowing the dataset"
   ]
  },
  {
   "cell_type": "code",
   "execution_count": 20,
   "metadata": {},
   "outputs": [
    {
     "name": "stdout",
     "output_type": "stream",
     "text": [
      "<class 'pandas.core.frame.DataFrame'>\n",
      "RangeIndex: 371539 entries, 0 to 371538\n",
      "Data columns (total 20 columns):\n",
      " #   Column               Non-Null Count   Dtype  \n",
      "---  ------               --------------   -----  \n",
      " 0   dateCrawled          371539 non-null  object \n",
      " 1   name                 371539 non-null  object \n",
      " 2   seller               371538 non-null  object \n",
      " 3   offerType            371538 non-null  object \n",
      " 4   price                371538 non-null  float64\n",
      " 5   abtest               371538 non-null  object \n",
      " 6   vehicleType          333669 non-null  object \n",
      " 7   yearOfRegistration   371537 non-null  float64\n",
      " 8   gearbox              351329 non-null  object \n",
      " 9   powerPS              371538 non-null  float64\n",
      " 10  model                351054 non-null  object \n",
      " 11  kilometer            371538 non-null  object \n",
      " 12  monthOfRegistration  371537 non-null  float64\n",
      " 13  fuelType             338151 non-null  object \n",
      " 14  brand                371537 non-null  object \n",
      " 15  notRepairedDamage    299477 non-null  object \n",
      " 16  dateCreated          371537 non-null  object \n",
      " 17  nrOfPictures         371537 non-null  float64\n",
      " 18  postalCode           371537 non-null  float64\n",
      " 19  lastSeen             371537 non-null  object \n",
      "dtypes: float64(6), object(14)\n",
      "memory usage: 56.7+ MB\n"
     ]
    }
   ],
   "source": [
    "# Display summary of the dataframe including the data types of each column\n",
    "df.info()"
   ]
  },
  {
   "cell_type": "code",
   "execution_count": 21,
   "metadata": {
    "scrolled": true
   },
   "outputs": [
    {
     "name": "stdout",
     "output_type": "stream",
     "text": [
      "dateCrawled             15623\n",
      "name                   233527\n",
      "seller                      3\n",
      "offerType                   3\n",
      "price                    5597\n",
      "abtest                      3\n",
      "vehicleType                 9\n",
      "yearOfRegistration        155\n",
      "gearbox                     3\n",
      "powerPS                   794\n",
      "model                     252\n",
      "kilometer                  14\n",
      "monthOfRegistration        13\n",
      "fuelType                    7\n",
      "brand                      40\n",
      "notRepairedDamage           2\n",
      "dateCreated               114\n",
      "nrOfPictures                1\n",
      "postalCode               8150\n",
      "lastSeen                18705\n",
      "dtype: int64\n"
     ]
    }
   ],
   "source": [
    "# Checking the unique values\n",
    "print(df.nunique())"
   ]
  },
  {
   "cell_type": "code",
   "execution_count": 22,
   "metadata": {},
   "outputs": [
    {
     "data": {
      "text/plain": [
       "offer      371525\n",
       "request        12\n",
       "150000          1\n",
       "Name: offerType, dtype: int64"
      ]
     },
     "execution_count": 22,
     "metadata": {},
     "output_type": "execute_result"
    }
   ],
   "source": [
    "#Frequency Counts of offerType\n",
    "df['offerType'].value_counts()"
   ]
  },
  {
   "cell_type": "code",
   "execution_count": 23,
   "metadata": {},
   "outputs": [
    {
     "data": {
      "text/plain": [
       "private    371534\n",
       "dealer          3\n",
       "golf            1\n",
       "Name: seller, dtype: int64"
      ]
     },
     "execution_count": 23,
     "metadata": {},
     "output_type": "execute_result"
    }
   ],
   "source": [
    "# Frequency Counts of seller Types\n",
    "df['seller'].value_counts()"
   ]
  },
  {
   "cell_type": "code",
   "execution_count": 24,
   "metadata": {},
   "outputs": [
    {
     "data": {
      "text/plain": [
       "test       192591\n",
       "control    178946\n",
       "gas             1\n",
       "Name: abtest, dtype: int64"
      ]
     },
     "execution_count": 24,
     "metadata": {},
     "output_type": "execute_result"
    }
   ],
   "source": [
    "# Frequency counts of abtest\n",
    "df['abtest'].value_counts()"
   ]
  },
  {
   "cell_type": "code",
   "execution_count": 25,
   "metadata": {},
   "outputs": [
    {
     "data": {
      "text/plain": [
       "limousine        0.287399\n",
       "small car        0.239836\n",
       "station wagon    0.202488\n",
       "bus              0.090515\n",
       "cabrio           0.068628\n",
       "coupe            0.056991\n",
       "suv              0.044080\n",
       "other            0.010061\n",
       "volkswagen       0.000003\n",
       "Name: vehicleType, dtype: float64"
      ]
     },
     "execution_count": 25,
     "metadata": {},
     "output_type": "execute_result"
    }
   ],
   "source": [
    "# Frequency counts of vehicleType\n",
    "df['vehicleType'].value_counts(1)"
   ]
  },
  {
   "cell_type": "code",
   "execution_count": 26,
   "metadata": {},
   "outputs": [
    {
     "data": {
      "text/plain": [
       "2000.0    24552\n",
       "1999.0    22768\n",
       "2005.0    22316\n",
       "2006.0    20232\n",
       "2001.0    20218\n",
       "2003.0    19873\n",
       "2004.0    19746\n",
       "2002.0    19189\n",
       "1998.0    17951\n",
       "2007.0    17673\n",
       "2008.0    16175\n",
       "2009.0    15607\n",
       "1997.0    14707\n",
       "2010.0    12354\n",
       "2011.0    12068\n",
       "1996.0    10886\n",
       "2017.0    10546\n",
       "2016.0     9859\n",
       "1995.0     9658\n",
       "2012.0     9418\n",
       "Name: yearOfRegistration, dtype: int64"
      ]
     },
     "execution_count": 26,
     "metadata": {},
     "output_type": "execute_result"
    }
   ],
   "source": [
    "# Frequency counts of yearofRegistration\n",
    "df['yearOfRegistration'].value_counts().nlargest(20)"
   ]
  },
  {
   "cell_type": "code",
   "execution_count": 27,
   "metadata": {},
   "outputs": [
    {
     "data": {
      "text/plain": [
       "manual           0.780519\n",
       "automatic        0.219478\n",
       "25-03-16 0:00    0.000003\n",
       "Name: gearbox, dtype: float64"
      ]
     },
     "execution_count": 27,
     "metadata": {},
     "output_type": "execute_result"
    }
   ],
   "source": [
    "# Frequency counts of Transmission Types\n",
    "df['gearbox'].value_counts(1)"
   ]
  },
  {
   "cell_type": "code",
   "execution_count": 28,
   "metadata": {},
   "outputs": [
    {
     "data": {
      "text/plain": [
       "gas                       0.662021\n",
       "diesel                    0.318639\n",
       "autogas                   0.015904\n",
       "compressed natural gas    0.001689\n",
       "hybrid                    0.000825\n",
       "other                     0.000615\n",
       "electric                  0.000308\n",
       "Name: fuelType, dtype: float64"
      ]
     },
     "execution_count": 28,
     "metadata": {},
     "output_type": "execute_result"
    }
   ],
   "source": [
    "# Frequency counts of fuelType\n",
    "df['fuelType'].value_counts(1)"
   ]
  },
  {
   "cell_type": "code",
   "execution_count": 29,
   "metadata": {},
   "outputs": [
    {
     "data": {
      "text/plain": [
       "no     0.878829\n",
       "yes    0.121171\n",
       "Name: notRepairedDamage, dtype: float64"
      ]
     },
     "execution_count": 29,
     "metadata": {},
     "output_type": "execute_result"
    }
   ],
   "source": [
    "# Frequency counts of notRepairedDamage\n",
    "df['notRepairedDamage'].value_counts(1)"
   ]
  },
  {
   "cell_type": "code",
   "execution_count": 30,
   "metadata": {},
   "outputs": [
    {
     "data": {
      "text/plain": [
       "dateCrawled            371539\n",
       "name                   371539\n",
       "seller                 371538\n",
       "offerType              371538\n",
       "price                  371538\n",
       "abtest                 371538\n",
       "vehicleType            333669\n",
       "yearOfRegistration     371537\n",
       "gearbox                351329\n",
       "powerPS                371538\n",
       "model                  351054\n",
       "kilometer              371538\n",
       "monthOfRegistration    371537\n",
       "fuelType               338151\n",
       "brand                  371537\n",
       "notRepairedDamage      299477\n",
       "dateCreated            371537\n",
       "nrOfPictures           371537\n",
       "postalCode             371537\n",
       "lastSeen               371537\n",
       "dtype: int64"
      ]
     },
     "execution_count": 30,
     "metadata": {},
     "output_type": "execute_result"
    }
   ],
   "source": [
    "# Find the number of non-NA/null value across each column\n",
    "df.count()"
   ]
  },
  {
   "cell_type": "code",
   "execution_count": 31,
   "metadata": {},
   "outputs": [
    {
     "data": {
      "text/plain": [
       "150000           240802\n",
       "125000            38067\n",
       "100000            15920\n",
       "90000             12524\n",
       "80000             11053\n",
       "70000              9773\n",
       "60000              8669\n",
       "50000              7616\n",
       "5000               7070\n",
       "40000              6377\n",
       "30000              6041\n",
       "20000              5676\n",
       "10000              1949\n",
       "30-03-16 0:44         1\n",
       "Name: kilometer, dtype: int64"
      ]
     },
     "execution_count": 31,
     "metadata": {},
     "output_type": "execute_result"
    }
   ],
   "source": [
    "# Frequency Counts of kilometer values\n",
    "df['kilometer'].value_counts()"
   ]
  },
  {
   "cell_type": "code",
   "execution_count": 32,
   "metadata": {},
   "outputs": [],
   "source": [
    "# Find the number of NaN values in each column \n",
    "autos_missing_values = df.isnull().sum()"
   ]
  },
  {
   "cell_type": "code",
   "execution_count": 33,
   "metadata": {},
   "outputs": [
    {
     "data": {
      "text/plain": [
       "dateCrawled                0\n",
       "name                       0\n",
       "seller                     1\n",
       "offerType                  1\n",
       "price                      1\n",
       "abtest                     1\n",
       "vehicleType            37870\n",
       "yearOfRegistration         2\n",
       "gearbox                20210\n",
       "powerPS                    1\n",
       "model                  20485\n",
       "kilometer                  1\n",
       "monthOfRegistration        2\n",
       "fuelType               33388\n",
       "brand                      2\n",
       "notRepairedDamage      72062\n",
       "dateCreated                2\n",
       "nrOfPictures               2\n",
       "postalCode                 2\n",
       "lastSeen                   2\n",
       "dtype: int64"
      ]
     },
     "execution_count": 33,
     "metadata": {},
     "output_type": "execute_result"
    }
   ],
   "source": [
    "autos_missing_values"
   ]
  },
  {
   "cell_type": "code",
   "execution_count": 34,
   "metadata": {},
   "outputs": [
    {
     "data": {
      "text/plain": [
       "(371539, 20)"
      ]
     },
     "execution_count": 34,
     "metadata": {},
     "output_type": "execute_result"
    }
   ],
   "source": [
    "# Find the number of rows and columns in the dataset\n",
    "# Check the dataset size\n",
    "df.shape"
   ]
  },
  {
   "cell_type": "code",
   "execution_count": 35,
   "metadata": {},
   "outputs": [
    {
     "data": {
      "text/html": [
       "<div>\n",
       "<style scoped>\n",
       "    .dataframe tbody tr th:only-of-type {\n",
       "        vertical-align: middle;\n",
       "    }\n",
       "\n",
       "    .dataframe tbody tr th {\n",
       "        vertical-align: top;\n",
       "    }\n",
       "\n",
       "    .dataframe thead th {\n",
       "        text-align: right;\n",
       "    }\n",
       "</style>\n",
       "<table border=\"1\" class=\"dataframe\">\n",
       "  <thead>\n",
       "    <tr style=\"text-align: right;\">\n",
       "      <th></th>\n",
       "      <th>price</th>\n",
       "      <th>yearOfRegistration</th>\n",
       "      <th>powerPS</th>\n",
       "      <th>monthOfRegistration</th>\n",
       "      <th>nrOfPictures</th>\n",
       "      <th>postalCode</th>\n",
       "    </tr>\n",
       "  </thead>\n",
       "  <tbody>\n",
       "    <tr>\n",
       "      <th>count</th>\n",
       "      <td>3.715380e+05</td>\n",
       "      <td>371537.000000</td>\n",
       "      <td>371538.000000</td>\n",
       "      <td>371537.000000</td>\n",
       "      <td>371537.0</td>\n",
       "      <td>371537.000000</td>\n",
       "    </tr>\n",
       "    <tr>\n",
       "      <th>mean</th>\n",
       "      <td>1.729544e+04</td>\n",
       "      <td>2004.577883</td>\n",
       "      <td>115.548840</td>\n",
       "      <td>5.734473</td>\n",
       "      <td>0.0</td>\n",
       "      <td>50820.666402</td>\n",
       "    </tr>\n",
       "    <tr>\n",
       "      <th>std</th>\n",
       "      <td>3.587905e+06</td>\n",
       "      <td>92.865496</td>\n",
       "      <td>192.137238</td>\n",
       "      <td>3.712383</td>\n",
       "      <td>0.0</td>\n",
       "      <td>25799.080292</td>\n",
       "    </tr>\n",
       "    <tr>\n",
       "      <th>min</th>\n",
       "      <td>0.000000e+00</td>\n",
       "      <td>1000.000000</td>\n",
       "      <td>0.000000</td>\n",
       "      <td>0.000000</td>\n",
       "      <td>0.0</td>\n",
       "      <td>1067.000000</td>\n",
       "    </tr>\n",
       "    <tr>\n",
       "      <th>25%</th>\n",
       "      <td>1.150000e+03</td>\n",
       "      <td>1999.000000</td>\n",
       "      <td>70.000000</td>\n",
       "      <td>3.000000</td>\n",
       "      <td>0.0</td>\n",
       "      <td>30459.000000</td>\n",
       "    </tr>\n",
       "    <tr>\n",
       "      <th>50%</th>\n",
       "      <td>2.950000e+03</td>\n",
       "      <td>2003.000000</td>\n",
       "      <td>105.000000</td>\n",
       "      <td>6.000000</td>\n",
       "      <td>0.0</td>\n",
       "      <td>49610.000000</td>\n",
       "    </tr>\n",
       "    <tr>\n",
       "      <th>75%</th>\n",
       "      <td>7.200000e+03</td>\n",
       "      <td>2008.000000</td>\n",
       "      <td>150.000000</td>\n",
       "      <td>9.000000</td>\n",
       "      <td>0.0</td>\n",
       "      <td>71546.000000</td>\n",
       "    </tr>\n",
       "    <tr>\n",
       "      <th>max</th>\n",
       "      <td>2.147484e+09</td>\n",
       "      <td>9999.000000</td>\n",
       "      <td>20000.000000</td>\n",
       "      <td>12.000000</td>\n",
       "      <td>0.0</td>\n",
       "      <td>99998.000000</td>\n",
       "    </tr>\n",
       "  </tbody>\n",
       "</table>\n",
       "</div>"
      ],
      "text/plain": [
       "              price  yearOfRegistration        powerPS  monthOfRegistration  \\\n",
       "count  3.715380e+05       371537.000000  371538.000000        371537.000000   \n",
       "mean   1.729544e+04         2004.577883     115.548840             5.734473   \n",
       "std    3.587905e+06           92.865496     192.137238             3.712383   \n",
       "min    0.000000e+00         1000.000000       0.000000             0.000000   \n",
       "25%    1.150000e+03         1999.000000      70.000000             3.000000   \n",
       "50%    2.950000e+03         2003.000000     105.000000             6.000000   \n",
       "75%    7.200000e+03         2008.000000     150.000000             9.000000   \n",
       "max    2.147484e+09         9999.000000   20000.000000            12.000000   \n",
       "\n",
       "       nrOfPictures     postalCode  \n",
       "count      371537.0  371537.000000  \n",
       "mean            0.0   50820.666402  \n",
       "std             0.0   25799.080292  \n",
       "min             0.0    1067.000000  \n",
       "25%             0.0   30459.000000  \n",
       "50%             0.0   49610.000000  \n",
       "75%             0.0   71546.000000  \n",
       "max             0.0   99998.000000  "
      ]
     },
     "execution_count": 35,
     "metadata": {},
     "output_type": "execute_result"
    }
   ],
   "source": [
    "# Descriptive or Summary statistics of numeric columns\n",
    "df.describe()"
   ]
  },
  {
   "cell_type": "code",
   "execution_count": 36,
   "metadata": {},
   "outputs": [
    {
     "data": {
      "text/html": [
       "<div>\n",
       "<style scoped>\n",
       "    .dataframe tbody tr th:only-of-type {\n",
       "        vertical-align: middle;\n",
       "    }\n",
       "\n",
       "    .dataframe tbody tr th {\n",
       "        vertical-align: top;\n",
       "    }\n",
       "\n",
       "    .dataframe thead th {\n",
       "        text-align: right;\n",
       "    }\n",
       "</style>\n",
       "<table border=\"1\" class=\"dataframe\">\n",
       "  <thead>\n",
       "    <tr style=\"text-align: right;\">\n",
       "      <th></th>\n",
       "      <th>dateCrawled</th>\n",
       "      <th>name</th>\n",
       "      <th>seller</th>\n",
       "      <th>offerType</th>\n",
       "      <th>abtest</th>\n",
       "      <th>vehicleType</th>\n",
       "      <th>gearbox</th>\n",
       "      <th>model</th>\n",
       "      <th>kilometer</th>\n",
       "      <th>fuelType</th>\n",
       "      <th>brand</th>\n",
       "      <th>notRepairedDamage</th>\n",
       "      <th>dateCreated</th>\n",
       "      <th>lastSeen</th>\n",
       "    </tr>\n",
       "  </thead>\n",
       "  <tbody>\n",
       "    <tr>\n",
       "      <th>count</th>\n",
       "      <td>371539</td>\n",
       "      <td>371539</td>\n",
       "      <td>371538</td>\n",
       "      <td>371538</td>\n",
       "      <td>371538</td>\n",
       "      <td>333669</td>\n",
       "      <td>351329</td>\n",
       "      <td>351054</td>\n",
       "      <td>371538</td>\n",
       "      <td>338151</td>\n",
       "      <td>371537</td>\n",
       "      <td>299477</td>\n",
       "      <td>371537</td>\n",
       "      <td>371537</td>\n",
       "    </tr>\n",
       "    <tr>\n",
       "      <th>unique</th>\n",
       "      <td>15623</td>\n",
       "      <td>233527</td>\n",
       "      <td>3</td>\n",
       "      <td>3</td>\n",
       "      <td>3</td>\n",
       "      <td>9</td>\n",
       "      <td>3</td>\n",
       "      <td>252</td>\n",
       "      <td>14</td>\n",
       "      <td>7</td>\n",
       "      <td>40</td>\n",
       "      <td>2</td>\n",
       "      <td>114</td>\n",
       "      <td>18705</td>\n",
       "    </tr>\n",
       "    <tr>\n",
       "      <th>top</th>\n",
       "      <td>05-03-16 14:25</td>\n",
       "      <td>Ford_Fiesta</td>\n",
       "      <td>private</td>\n",
       "      <td>offer</td>\n",
       "      <td>test</td>\n",
       "      <td>limousine</td>\n",
       "      <td>manual</td>\n",
       "      <td>golf</td>\n",
       "      <td>150000</td>\n",
       "      <td>gas</td>\n",
       "      <td>volkswagen</td>\n",
       "      <td>no</td>\n",
       "      <td>03-04-16 0:00</td>\n",
       "      <td>07-04-16 6:45</td>\n",
       "    </tr>\n",
       "    <tr>\n",
       "      <th>freq</th>\n",
       "      <td>68</td>\n",
       "      <td>657</td>\n",
       "      <td>371534</td>\n",
       "      <td>371525</td>\n",
       "      <td>192591</td>\n",
       "      <td>95896</td>\n",
       "      <td>274219</td>\n",
       "      <td>30070</td>\n",
       "      <td>240802</td>\n",
       "      <td>223863</td>\n",
       "      <td>79640</td>\n",
       "      <td>263189</td>\n",
       "      <td>14451</td>\n",
       "      <td>708</td>\n",
       "    </tr>\n",
       "  </tbody>\n",
       "</table>\n",
       "</div>"
      ],
      "text/plain": [
       "           dateCrawled         name   seller offerType  abtest vehicleType  \\\n",
       "count           371539       371539   371538    371538  371538      333669   \n",
       "unique           15623       233527        3         3       3           9   \n",
       "top     05-03-16 14:25  Ford_Fiesta  private     offer    test   limousine   \n",
       "freq                68          657   371534    371525  192591       95896   \n",
       "\n",
       "       gearbox   model kilometer fuelType       brand notRepairedDamage  \\\n",
       "count   351329  351054    371538   338151      371537            299477   \n",
       "unique       3     252        14        7          40                 2   \n",
       "top     manual    golf    150000      gas  volkswagen                no   \n",
       "freq    274219   30070    240802   223863       79640            263189   \n",
       "\n",
       "          dateCreated       lastSeen  \n",
       "count          371537         371537  \n",
       "unique            114          18705  \n",
       "top     03-04-16 0:00  07-04-16 6:45  \n",
       "freq            14451            708  "
      ]
     },
     "execution_count": 36,
     "metadata": {},
     "output_type": "execute_result"
    }
   ],
   "source": [
    "# Summary statistics of character or non-numeric columns\n",
    "df.describe(include=['object'])"
   ]
  },
  {
   "cell_type": "markdown",
   "metadata": {},
   "source": [
    "## Create meaningful Column names\n",
    "\n",
    "To change the column names using rename function in Pandas, one needs to specify a mapper, a dictionary with old name as keys and new name as values.  We will also use inplace=True to change column names in place.\n"
   ]
  },
  {
   "cell_type": "code",
   "execution_count": 37,
   "metadata": {},
   "outputs": [],
   "source": [
    "# Change column names using rename function\n",
    "\n",
    "df.rename(columns={'dateCrawled':'Date_Crawled',\n",
    "                   'name':'Car_Name',\n",
    "                   'seller':'Car_Seller_Type',\n",
    "                   'offerType':'Offer_Type',\n",
    "                   'price':'Car_Price',\n",
    "                   'abtest':'Abtest_Type',\n",
    "                   'vehicleType':'Vehicle_Type',\n",
    "                   'yearOfRegistration':'Year_of_Car_Registration',\n",
    "                   'gearbox':'Car_Transmission_Type',\n",
    "                   'powerPS':'Car_Engine_Power_PS',\n",
    "                   'model':'Car_Model',\n",
    "                   'kilometer':'Car_Mileage_Kilometer',\n",
    "                   'monthOfRegistration':'Month_of_Car_Registration',\n",
    "                   'fuelType':'Fuel_Type',\n",
    "                   'brand':'Car_Brand',\n",
    "                   'notRepairedDamage': 'UnRepaired_Damage',\n",
    "                   'dateCreated': 'Date_Created',\n",
    "                   'nrOfPictures': 'No_of_Pictures',\n",
    "                   'postalCode': 'Seller_Postal_Code',\n",
    "                   'lastSeen': 'Date_LastSeen_Online'},                         \n",
    "                   inplace=True)                  \n",
    "                   "
   ]
  },
  {
   "cell_type": "code",
   "execution_count": 38,
   "metadata": {},
   "outputs": [],
   "source": [
    "# Make a copy of the dataframe\n",
    "autos_df = df.copy()"
   ]
  },
  {
   "cell_type": "code",
   "execution_count": 39,
   "metadata": {},
   "outputs": [
    {
     "data": {
      "text/html": [
       "<div>\n",
       "<style scoped>\n",
       "    .dataframe tbody tr th:only-of-type {\n",
       "        vertical-align: middle;\n",
       "    }\n",
       "\n",
       "    .dataframe tbody tr th {\n",
       "        vertical-align: top;\n",
       "    }\n",
       "\n",
       "    .dataframe thead th {\n",
       "        text-align: right;\n",
       "    }\n",
       "</style>\n",
       "<table border=\"1\" class=\"dataframe\">\n",
       "  <thead>\n",
       "    <tr style=\"text-align: right;\">\n",
       "      <th></th>\n",
       "      <th>Date_Crawled</th>\n",
       "      <th>Car_Name</th>\n",
       "      <th>Car_Seller_Type</th>\n",
       "      <th>Offer_Type</th>\n",
       "      <th>Car_Price</th>\n",
       "      <th>Abtest_Type</th>\n",
       "      <th>Vehicle_Type</th>\n",
       "      <th>Year_of_Car_Registration</th>\n",
       "      <th>Car_Transmission_Type</th>\n",
       "      <th>Car_Engine_Power_PS</th>\n",
       "      <th>Car_Model</th>\n",
       "      <th>Car_Mileage_Kilometer</th>\n",
       "      <th>Month_of_Car_Registration</th>\n",
       "      <th>Fuel_Type</th>\n",
       "      <th>Car_Brand</th>\n",
       "      <th>UnRepaired_Damage</th>\n",
       "      <th>Date_Created</th>\n",
       "      <th>No_of_Pictures</th>\n",
       "      <th>Seller_Postal_Code</th>\n",
       "      <th>Date_LastSeen_Online</th>\n",
       "    </tr>\n",
       "  </thead>\n",
       "  <tbody>\n",
       "    <tr>\n",
       "      <th>0</th>\n",
       "      <td>24-03-16 11:52</td>\n",
       "      <td>Golf_3_1.6</td>\n",
       "      <td>private</td>\n",
       "      <td>offer</td>\n",
       "      <td>480.0</td>\n",
       "      <td>test</td>\n",
       "      <td>NaN</td>\n",
       "      <td>1993.0</td>\n",
       "      <td>manual</td>\n",
       "      <td>0.0</td>\n",
       "      <td>golf</td>\n",
       "      <td>150000</td>\n",
       "      <td>0.0</td>\n",
       "      <td>gas</td>\n",
       "      <td>volkswagen</td>\n",
       "      <td>NaN</td>\n",
       "      <td>24-03-16 0:00</td>\n",
       "      <td>0.0</td>\n",
       "      <td>70435.0</td>\n",
       "      <td>07-04-16 3:16</td>\n",
       "    </tr>\n",
       "    <tr>\n",
       "      <th>1</th>\n",
       "      <td>24-03-16 10:58</td>\n",
       "      <td>A5_Sportback_2.7_Tdi</td>\n",
       "      <td>private</td>\n",
       "      <td>offer</td>\n",
       "      <td>18300.0</td>\n",
       "      <td>test</td>\n",
       "      <td>coupe</td>\n",
       "      <td>2011.0</td>\n",
       "      <td>manual</td>\n",
       "      <td>190.0</td>\n",
       "      <td>NaN</td>\n",
       "      <td>125000</td>\n",
       "      <td>5.0</td>\n",
       "      <td>diesel</td>\n",
       "      <td>audi</td>\n",
       "      <td>yes</td>\n",
       "      <td>24-03-16 0:00</td>\n",
       "      <td>0.0</td>\n",
       "      <td>66954.0</td>\n",
       "      <td>07-04-16 1:46</td>\n",
       "    </tr>\n",
       "    <tr>\n",
       "      <th>2</th>\n",
       "      <td>14-03-16 12:52</td>\n",
       "      <td>Jeep_Grand_Cherokee_\"Overland\"</td>\n",
       "      <td>private</td>\n",
       "      <td>offer</td>\n",
       "      <td>9800.0</td>\n",
       "      <td>test</td>\n",
       "      <td>suv</td>\n",
       "      <td>2004.0</td>\n",
       "      <td>automatic</td>\n",
       "      <td>163.0</td>\n",
       "      <td>grand</td>\n",
       "      <td>125000</td>\n",
       "      <td>8.0</td>\n",
       "      <td>diesel</td>\n",
       "      <td>jeep</td>\n",
       "      <td>NaN</td>\n",
       "      <td>14-03-16 0:00</td>\n",
       "      <td>0.0</td>\n",
       "      <td>90480.0</td>\n",
       "      <td>05-04-16 12:47</td>\n",
       "    </tr>\n",
       "    <tr>\n",
       "      <th>3</th>\n",
       "      <td>17-03-16 16:54</td>\n",
       "      <td>GOLF_4_1_4__3TÃRER</td>\n",
       "      <td>private</td>\n",
       "      <td>offer</td>\n",
       "      <td>1500.0</td>\n",
       "      <td>test</td>\n",
       "      <td>small car</td>\n",
       "      <td>2001.0</td>\n",
       "      <td>manual</td>\n",
       "      <td>75.0</td>\n",
       "      <td>golf</td>\n",
       "      <td>150000</td>\n",
       "      <td>6.0</td>\n",
       "      <td>gas</td>\n",
       "      <td>volkswagen</td>\n",
       "      <td>no</td>\n",
       "      <td>17-03-16 0:00</td>\n",
       "      <td>0.0</td>\n",
       "      <td>91074.0</td>\n",
       "      <td>17-03-16 17:40</td>\n",
       "    </tr>\n",
       "    <tr>\n",
       "      <th>4</th>\n",
       "      <td>31-03-16 17:25</td>\n",
       "      <td>Skoda_Fabia_1.4_TDI_PD_Classic</td>\n",
       "      <td>private</td>\n",
       "      <td>offer</td>\n",
       "      <td>3600.0</td>\n",
       "      <td>test</td>\n",
       "      <td>small car</td>\n",
       "      <td>2008.0</td>\n",
       "      <td>manual</td>\n",
       "      <td>69.0</td>\n",
       "      <td>fabia</td>\n",
       "      <td>90000</td>\n",
       "      <td>7.0</td>\n",
       "      <td>diesel</td>\n",
       "      <td>skoda</td>\n",
       "      <td>no</td>\n",
       "      <td>31-03-16 0:00</td>\n",
       "      <td>0.0</td>\n",
       "      <td>60437.0</td>\n",
       "      <td>06-04-16 10:17</td>\n",
       "    </tr>\n",
       "  </tbody>\n",
       "</table>\n",
       "</div>"
      ],
      "text/plain": [
       "     Date_Crawled                        Car_Name Car_Seller_Type Offer_Type  \\\n",
       "0  24-03-16 11:52                      Golf_3_1.6         private      offer   \n",
       "1  24-03-16 10:58            A5_Sportback_2.7_Tdi         private      offer   \n",
       "2  14-03-16 12:52  Jeep_Grand_Cherokee_\"Overland\"         private      offer   \n",
       "3  17-03-16 16:54             GOLF_4_1_4__3TÃRER         private      offer   \n",
       "4  31-03-16 17:25  Skoda_Fabia_1.4_TDI_PD_Classic         private      offer   \n",
       "\n",
       "   Car_Price Abtest_Type Vehicle_Type  Year_of_Car_Registration  \\\n",
       "0      480.0        test          NaN                    1993.0   \n",
       "1    18300.0        test        coupe                    2011.0   \n",
       "2     9800.0        test          suv                    2004.0   \n",
       "3     1500.0        test    small car                    2001.0   \n",
       "4     3600.0        test    small car                    2008.0   \n",
       "\n",
       "  Car_Transmission_Type  Car_Engine_Power_PS Car_Model Car_Mileage_Kilometer  \\\n",
       "0                manual                  0.0      golf                150000   \n",
       "1                manual                190.0       NaN                125000   \n",
       "2             automatic                163.0     grand                125000   \n",
       "3                manual                 75.0      golf                150000   \n",
       "4                manual                 69.0     fabia                 90000   \n",
       "\n",
       "   Month_of_Car_Registration Fuel_Type   Car_Brand UnRepaired_Damage  \\\n",
       "0                        0.0       gas  volkswagen               NaN   \n",
       "1                        5.0    diesel        audi               yes   \n",
       "2                        8.0    diesel        jeep               NaN   \n",
       "3                        6.0       gas  volkswagen                no   \n",
       "4                        7.0    diesel       skoda                no   \n",
       "\n",
       "    Date_Created  No_of_Pictures  Seller_Postal_Code Date_LastSeen_Online  \n",
       "0  24-03-16 0:00             0.0             70435.0        07-04-16 3:16  \n",
       "1  24-03-16 0:00             0.0             66954.0        07-04-16 1:46  \n",
       "2  14-03-16 0:00             0.0             90480.0       05-04-16 12:47  \n",
       "3  17-03-16 0:00             0.0             91074.0       17-03-16 17:40  \n",
       "4  31-03-16 0:00             0.0             60437.0       06-04-16 10:17  "
      ]
     },
     "execution_count": 39,
     "metadata": {},
     "output_type": "execute_result"
    }
   ],
   "source": [
    "# Display the first five lines of the dataframe\n",
    "autos_df.head()"
   ]
  },
  {
   "cell_type": "markdown",
   "metadata": {},
   "source": [
    "## Missing Values"
   ]
  },
  {
   "cell_type": "markdown",
   "metadata": {},
   "source": [
    "There are missing values identified as NaNs in the dataset. However, these are not the only missing values. \n",
    "The data used '0.0' as missing values as well. Specifically, the data used 0.0 in Car_Price(Euros), \n",
    "Car_Engine_Power_PS, Month_of_Car_Registration and No_of_Pictures as missing values as well.\n",
    "And these have to be cleaned up. \n",
    "Null values would result in bias resulting from differences between missing and complete data."
   ]
  },
  {
   "cell_type": "code",
   "execution_count": 40,
   "metadata": {},
   "outputs": [],
   "source": [
    "# Convert zeros(0.0) to missing values - Replace 0 with NaNs\n",
    "autos_df.replace(0.0, np.nan, inplace=True)"
   ]
  },
  {
   "cell_type": "code",
   "execution_count": 41,
   "metadata": {},
   "outputs": [
    {
     "name": "stdout",
     "output_type": "stream",
     "text": [
      "<class 'pandas.core.frame.DataFrame'>\n",
      "RangeIndex: 371539 entries, 0 to 371538\n",
      "Data columns (total 20 columns):\n",
      " #   Column                     Non-Null Count   Dtype  \n",
      "---  ------                     --------------   -----  \n",
      " 0   Date_Crawled               371539 non-null  object \n",
      " 1   Car_Name                   371539 non-null  object \n",
      " 2   Car_Seller_Type            371538 non-null  object \n",
      " 3   Offer_Type                 371538 non-null  object \n",
      " 4   Car_Price                  360760 non-null  float64\n",
      " 5   Abtest_Type                371538 non-null  object \n",
      " 6   Vehicle_Type               333669 non-null  object \n",
      " 7   Year_of_Car_Registration   371537 non-null  float64\n",
      " 8   Car_Transmission_Type      351329 non-null  object \n",
      " 9   Car_Engine_Power_PS        330716 non-null  float64\n",
      " 10  Car_Model                  351054 non-null  object \n",
      " 11  Car_Mileage_Kilometer      371538 non-null  object \n",
      " 12  Month_of_Car_Registration  333862 non-null  float64\n",
      " 13  Fuel_Type                  338151 non-null  object \n",
      " 14  Car_Brand                  371537 non-null  object \n",
      " 15  UnRepaired_Damage          299477 non-null  object \n",
      " 16  Date_Created               371537 non-null  object \n",
      " 17  No_of_Pictures             0 non-null       float64\n",
      " 18  Seller_Postal_Code         371537 non-null  float64\n",
      " 19  Date_LastSeen_Online       371537 non-null  object \n",
      "dtypes: float64(6), object(14)\n",
      "memory usage: 56.7+ MB\n"
     ]
    }
   ],
   "source": [
    "autos_df.info()"
   ]
  },
  {
   "cell_type": "code",
   "execution_count": 42,
   "metadata": {},
   "outputs": [
    {
     "data": {
      "text/plain": [
       "Date_Crawled                      0\n",
       "Car_Name                          0\n",
       "Car_Seller_Type                   1\n",
       "Offer_Type                        1\n",
       "Car_Price                     10779\n",
       "Abtest_Type                       1\n",
       "Vehicle_Type                  37870\n",
       "Year_of_Car_Registration          2\n",
       "Car_Transmission_Type         20210\n",
       "Car_Engine_Power_PS           40823\n",
       "Car_Model                     20485\n",
       "Car_Mileage_Kilometer             1\n",
       "Month_of_Car_Registration     37677\n",
       "Fuel_Type                     33388\n",
       "Car_Brand                         2\n",
       "UnRepaired_Damage             72062\n",
       "Date_Created                      2\n",
       "No_of_Pictures               371539\n",
       "Seller_Postal_Code                2\n",
       "Date_LastSeen_Online              2\n",
       "dtype: int64"
      ]
     },
     "execution_count": 42,
     "metadata": {},
     "output_type": "execute_result"
    }
   ],
   "source": [
    "autos_df.isnull().sum()"
   ]
  },
  {
   "cell_type": "markdown",
   "metadata": {},
   "source": [
    "## Change column types to appropriate data types"
   ]
  },
  {
   "cell_type": "code",
   "execution_count": 43,
   "metadata": {},
   "outputs": [],
   "source": [
    "autos_df2 = autos_df.copy()"
   ]
  },
  {
   "cell_type": "code",
   "execution_count": 44,
   "metadata": {},
   "outputs": [],
   "source": [
    "# Change Date_Crawled, Date_Created, and Date_LastSeen_Online column data type from string to date \n",
    "autos_df2['Date_Created'] = pd.to_datetime(autos_df2['Date_Created'])"
   ]
  },
  {
   "cell_type": "code",
   "execution_count": 45,
   "metadata": {},
   "outputs": [],
   "source": [
    "# Change Date_Crawled, Date_Created, and Date_LastSeen_Online column data type from string to date \n",
    "autos_df2['Date_LastSeen_Online'] = pd.to_datetime(autos_df2['Date_LastSeen_Online'])"
   ]
  },
  {
   "cell_type": "code",
   "execution_count": 46,
   "metadata": {
    "scrolled": false
   },
   "outputs": [
    {
     "data": {
      "text/plain": [
       "Date_Crawled                      0\n",
       "Car_Name                          0\n",
       "Car_Seller_Type                   1\n",
       "Offer_Type                        1\n",
       "Car_Price                     10779\n",
       "Abtest_Type                       1\n",
       "Vehicle_Type                  37870\n",
       "Year_of_Car_Registration          2\n",
       "Car_Transmission_Type         20210\n",
       "Car_Engine_Power_PS           40823\n",
       "Car_Model                     20485\n",
       "Car_Mileage_Kilometer             1\n",
       "Month_of_Car_Registration     37677\n",
       "Fuel_Type                     33388\n",
       "Car_Brand                         2\n",
       "UnRepaired_Damage             72062\n",
       "Date_Created                      2\n",
       "No_of_Pictures               371539\n",
       "Seller_Postal_Code                2\n",
       "Date_LastSeen_Online              2\n",
       "dtype: int64"
      ]
     },
     "execution_count": 46,
     "metadata": {},
     "output_type": "execute_result"
    }
   ],
   "source": [
    "autos_df2.isnull().sum()"
   ]
  },
  {
   "cell_type": "markdown",
   "metadata": {},
   "source": [
    "It is important to deal with missing values to get the dataset into a more useful form by deleting \n",
    "columns and rows that are not required for further analysis. Furthermore, decision should be made on \n",
    "how to treat NaNs/missing values."
   ]
  },
  {
   "cell_type": "code",
   "execution_count": 47,
   "metadata": {},
   "outputs": [
    {
     "name": "stdout",
     "output_type": "stream",
     "text": [
      "(371539, 20)\n"
     ]
    }
   ],
   "source": [
    "#Summarize the number of rows and columns in the dataset\n",
    "print(autos_df2.shape)"
   ]
  },
  {
   "cell_type": "code",
   "execution_count": 48,
   "metadata": {},
   "outputs": [],
   "source": [
    "# Drop the rows where all elements are missing\n",
    "autos_clean_df = autos_df2.dropna(how ='all')"
   ]
  },
  {
   "cell_type": "code",
   "execution_count": 49,
   "metadata": {},
   "outputs": [
    {
     "name": "stdout",
     "output_type": "stream",
     "text": [
      "(371539, 20)\n"
     ]
    }
   ],
   "source": [
    "#Summarize the number of rows and columns in the dataset\n",
    "print(autos_clean_df.shape)"
   ]
  },
  {
   "cell_type": "code",
   "execution_count": 50,
   "metadata": {},
   "outputs": [],
   "source": [
    "# Drop rows that contain less than five observations\n",
    "autos_clean_df = autos_clean_df.dropna(thresh=5)"
   ]
  },
  {
   "cell_type": "code",
   "execution_count": 51,
   "metadata": {},
   "outputs": [
    {
     "name": "stdout",
     "output_type": "stream",
     "text": [
      "(371538, 20)\n"
     ]
    }
   ],
   "source": [
    "#Summarize the number of rows and columns in the dataset\n",
    "print(autos_clean_df.shape)"
   ]
  },
  {
   "cell_type": "code",
   "execution_count": 52,
   "metadata": {},
   "outputs": [],
   "source": [
    "# The No_of_Pictures column contains missing values only, we need to remove it.\n",
    "# We won't get anything meaningful from a column with all missing values\n",
    "autos_clean_df = autos_clean_df.drop('No_of_Pictures', axis=1)"
   ]
  },
  {
   "cell_type": "code",
   "execution_count": 53,
   "metadata": {},
   "outputs": [
    {
     "name": "stdout",
     "output_type": "stream",
     "text": [
      "(371538, 19)\n"
     ]
    }
   ],
   "source": [
    "#Summarize the number of rows and columns in the dataset\n",
    "print(autos_clean_df.shape)"
   ]
  },
  {
   "cell_type": "code",
   "execution_count": 54,
   "metadata": {},
   "outputs": [
    {
     "name": "stdout",
     "output_type": "stream",
     "text": [
      "<class 'pandas.core.frame.DataFrame'>\n",
      "Int64Index: 371538 entries, 0 to 371538\n",
      "Data columns (total 19 columns):\n",
      " #   Column                     Non-Null Count   Dtype         \n",
      "---  ------                     --------------   -----         \n",
      " 0   Date_Crawled               371538 non-null  object        \n",
      " 1   Car_Name                   371538 non-null  object        \n",
      " 2   Car_Seller_Type            371538 non-null  object        \n",
      " 3   Offer_Type                 371538 non-null  object        \n",
      " 4   Car_Price                  360760 non-null  float64       \n",
      " 5   Abtest_Type                371538 non-null  object        \n",
      " 6   Vehicle_Type               333669 non-null  object        \n",
      " 7   Year_of_Car_Registration   371537 non-null  float64       \n",
      " 8   Car_Transmission_Type      351329 non-null  object        \n",
      " 9   Car_Engine_Power_PS        330716 non-null  float64       \n",
      " 10  Car_Model                  351054 non-null  object        \n",
      " 11  Car_Mileage_Kilometer      371538 non-null  object        \n",
      " 12  Month_of_Car_Registration  333862 non-null  float64       \n",
      " 13  Fuel_Type                  338151 non-null  object        \n",
      " 14  Car_Brand                  371537 non-null  object        \n",
      " 15  UnRepaired_Damage          299477 non-null  object        \n",
      " 16  Date_Created               371537 non-null  datetime64[ns]\n",
      " 17  Seller_Postal_Code         371537 non-null  float64       \n",
      " 18  Date_LastSeen_Online       371537 non-null  datetime64[ns]\n",
      "dtypes: datetime64[ns](2), float64(5), object(12)\n",
      "memory usage: 56.7+ MB\n"
     ]
    }
   ],
   "source": [
    "autos_clean_df.info()"
   ]
  },
  {
   "cell_type": "markdown",
   "metadata": {},
   "source": [
    "## Drop columns not required for further data analysis"
   ]
  },
  {
   "cell_type": "code",
   "execution_count": 55,
   "metadata": {},
   "outputs": [],
   "source": [
    "autos_clean_df = autos_clean_df.drop(['Date_Crawled','Car_Name'], axis=1)"
   ]
  },
  {
   "cell_type": "code",
   "execution_count": 56,
   "metadata": {},
   "outputs": [
    {
     "name": "stdout",
     "output_type": "stream",
     "text": [
      "<class 'pandas.core.frame.DataFrame'>\n",
      "Int64Index: 371538 entries, 0 to 371538\n",
      "Data columns (total 17 columns):\n",
      " #   Column                     Non-Null Count   Dtype         \n",
      "---  ------                     --------------   -----         \n",
      " 0   Car_Seller_Type            371538 non-null  object        \n",
      " 1   Offer_Type                 371538 non-null  object        \n",
      " 2   Car_Price                  360760 non-null  float64       \n",
      " 3   Abtest_Type                371538 non-null  object        \n",
      " 4   Vehicle_Type               333669 non-null  object        \n",
      " 5   Year_of_Car_Registration   371537 non-null  float64       \n",
      " 6   Car_Transmission_Type      351329 non-null  object        \n",
      " 7   Car_Engine_Power_PS        330716 non-null  float64       \n",
      " 8   Car_Model                  351054 non-null  object        \n",
      " 9   Car_Mileage_Kilometer      371538 non-null  object        \n",
      " 10  Month_of_Car_Registration  333862 non-null  float64       \n",
      " 11  Fuel_Type                  338151 non-null  object        \n",
      " 12  Car_Brand                  371537 non-null  object        \n",
      " 13  UnRepaired_Damage          299477 non-null  object        \n",
      " 14  Date_Created               371537 non-null  datetime64[ns]\n",
      " 15  Seller_Postal_Code         371537 non-null  float64       \n",
      " 16  Date_LastSeen_Online       371537 non-null  datetime64[ns]\n",
      "dtypes: datetime64[ns](2), float64(5), object(10)\n",
      "memory usage: 51.0+ MB\n"
     ]
    }
   ],
   "source": [
    "autos_clean_df.info()"
   ]
  },
  {
   "cell_type": "markdown",
   "metadata": {},
   "source": [
    "## Cleaning up Erronous Values  - Outliers Removal"
   ]
  },
  {
   "cell_type": "markdown",
   "metadata": {},
   "source": [
    "## Anomalies"
   ]
  },
  {
   "cell_type": "markdown",
   "metadata": {},
   "source": [
    "There is a need to examine the remaining columns and remove errornous values from the columns. \n",
    "For example, there is no way we could have a car with year of registration as 2018,5300,5600 or 7777 in 2016. Extreme values should also be removed from the columns."
   ]
  },
  {
   "cell_type": "code",
   "execution_count": 57,
   "metadata": {
    "scrolled": true
   },
   "outputs": [
    {
     "name": "stdout",
     "output_type": "stream",
     "text": [
      "count    330716.000000\n",
      "mean        129.811636\n",
      "std         199.052939\n",
      "min           1.000000\n",
      "25%          80.000000\n",
      "50%         116.000000\n",
      "75%         150.000000\n",
      "max       20000.000000\n",
      "Name: Car_Engine_Power_PS, dtype: float64\n"
     ]
    }
   ],
   "source": [
    "# Summary statistics for Car_Engine_Power_PS\n",
    "print(autos_clean_df['Car_Engine_Power_PS'].describe())"
   ]
  },
  {
   "cell_type": "code",
   "execution_count": 58,
   "metadata": {},
   "outputs": [],
   "source": [
    "# Remove rows with erroneous engine power values \n",
    "# Limit Car Engine Power PS the range of 1 to 999\n",
    "\n",
    "autos_clean_df = autos_clean_df[(autos_clean_df.Car_Engine_Power_PS > 0) & (autos_clean_df.Car_Engine_Power_PS < 1000)]"
   ]
  },
  {
   "cell_type": "code",
   "execution_count": 59,
   "metadata": {},
   "outputs": [
    {
     "name": "stdout",
     "output_type": "stream",
     "text": [
      "count    330402.000000\n",
      "mean        125.976126\n",
      "std          62.834024\n",
      "min           1.000000\n",
      "25%          80.000000\n",
      "50%         116.000000\n",
      "75%         150.000000\n",
      "max         999.000000\n",
      "Name: Car_Engine_Power_PS, dtype: float64\n"
     ]
    }
   ],
   "source": [
    "# Summary statistics for Car_Engine_Power_PS\n",
    "print(autos_clean_df['Car_Engine_Power_PS'].describe())"
   ]
  },
  {
   "cell_type": "code",
   "execution_count": 60,
   "metadata": {},
   "outputs": [
    {
     "name": "stdout",
     "output_type": "stream",
     "text": [
      "count    3.235100e+05\n",
      "mean     1.705253e+04\n",
      "std      3.818116e+06\n",
      "min      1.000000e+00\n",
      "25%      1.400000e+03\n",
      "50%      3.490000e+03\n",
      "75%      7.950000e+03\n",
      "max      2.147484e+09\n",
      "Name: Car_Price, dtype: float64\n"
     ]
    }
   ],
   "source": [
    "# Summary statistics for Car_Price in Euros\n",
    "print(autos_clean_df['Car_Price'].describe())"
   ]
  },
  {
   "cell_type": "code",
   "execution_count": 61,
   "metadata": {},
   "outputs": [
    {
     "data": {
      "text/plain": [
       "2147483647.0"
      ]
     },
     "execution_count": 61,
     "metadata": {},
     "output_type": "execute_result"
    }
   ],
   "source": [
    "autos_clean_df.Car_Price.max()"
   ]
  },
  {
   "cell_type": "code",
   "execution_count": 62,
   "metadata": {},
   "outputs": [],
   "source": [
    "# Let us keep the price within the range of 1 to 100,000\n",
    "autos_clean_df = autos_clean_df[(autos_clean_df.Car_Price > 0) & (autos_clean_df.Car_Price < 100000)]"
   ]
  },
  {
   "cell_type": "code",
   "execution_count": 63,
   "metadata": {},
   "outputs": [
    {
     "name": "stdout",
     "output_type": "stream",
     "text": [
      "count    323165.000000\n",
      "mean       6110.159405\n",
      "std        7696.048710\n",
      "min           1.000000\n",
      "25%        1400.000000\n",
      "50%        3450.000000\n",
      "75%        7900.000000\n",
      "max       99999.000000\n",
      "Name: Car_Price, dtype: float64\n"
     ]
    }
   ],
   "source": [
    "# Summary statistics for Car_Price in Euros\n",
    "print(autos_clean_df['Car_Price'].describe())"
   ]
  },
  {
   "cell_type": "code",
   "execution_count": 64,
   "metadata": {},
   "outputs": [],
   "source": [
    "# Remove rows with errornous year of car registration values\n",
    "# Let us focus the dataset on car year of registration between 1950 and 2017\n",
    "autos_clean_df = autos_clean_df[(autos_clean_df.Year_of_Car_Registration > 1950) & (autos_clean_df.Year_of_Car_Registration < 2017)]"
   ]
  },
  {
   "cell_type": "code",
   "execution_count": 65,
   "metadata": {},
   "outputs": [],
   "source": [
    "# Remove rows with UnRepaired_Damage Null/Nan values\n",
    "autos_cleaned_df = autos_clean_df[pd.notnull(autos_clean_df['UnRepaired_Damage'])]"
   ]
  },
  {
   "cell_type": "code",
   "execution_count": 66,
   "metadata": {},
   "outputs": [],
   "source": [
    "# Remove rows with Month_of_Car_Registration Null/Nan values\n",
    "autos_cleaned_df = autos_cleaned_df[pd.notnull(autos_cleaned_df['Month_of_Car_Registration'])]"
   ]
  },
  {
   "cell_type": "code",
   "execution_count": 67,
   "metadata": {},
   "outputs": [],
   "source": [
    "# Remove rows with Fuel_Type Null/Nan values\n",
    "autos_cleaned_df = autos_cleaned_df[pd.notnull(autos_cleaned_df['Fuel_Type'])]"
   ]
  },
  {
   "cell_type": "code",
   "execution_count": 68,
   "metadata": {},
   "outputs": [],
   "source": [
    "# Remove rows with Car_Model Null/Nan values\n",
    "autos_cleaned_df = autos_cleaned_df[pd.notnull(autos_cleaned_df['Car_Model'])]"
   ]
  },
  {
   "cell_type": "code",
   "execution_count": 69,
   "metadata": {},
   "outputs": [],
   "source": [
    "# Remove rows with Car_Price(Euros) Null/Nan values\n",
    "autos_cleaned_df = autos_cleaned_df[pd.notnull(autos_cleaned_df['Car_Transmission_Type'])]"
   ]
  },
  {
   "cell_type": "code",
   "execution_count": 70,
   "metadata": {},
   "outputs": [],
   "source": [
    "# Remove rows with Car_Price(Euros) Null/Nan values\n",
    "autos_cleaned_df = autos_cleaned_df[pd.notnull(autos_cleaned_df['Vehicle_Type'])]"
   ]
  },
  {
   "cell_type": "code",
   "execution_count": 71,
   "metadata": {},
   "outputs": [
    {
     "data": {
      "text/plain": [
       "Car_Seller_Type              0\n",
       "Offer_Type                   0\n",
       "Car_Price                    0\n",
       "Abtest_Type                  0\n",
       "Vehicle_Type                 0\n",
       "Year_of_Car_Registration     0\n",
       "Car_Transmission_Type        0\n",
       "Car_Engine_Power_PS          0\n",
       "Car_Model                    0\n",
       "Car_Mileage_Kilometer        0\n",
       "Month_of_Car_Registration    0\n",
       "Fuel_Type                    0\n",
       "Car_Brand                    0\n",
       "UnRepaired_Damage            0\n",
       "Date_Created                 0\n",
       "Seller_Postal_Code           0\n",
       "Date_LastSeen_Online         0\n",
       "dtype: int64"
      ]
     },
     "execution_count": 71,
     "metadata": {},
     "output_type": "execute_result"
    }
   ],
   "source": [
    "autos_cleaned_df.isnull().sum()"
   ]
  },
  {
   "cell_type": "markdown",
   "metadata": {},
   "source": [
    "We finally have a completely cleaned dataset for further data analysis"
   ]
  },
  {
   "cell_type": "code",
   "execution_count": 72,
   "metadata": {},
   "outputs": [
    {
     "name": "stdout",
     "output_type": "stream",
     "text": [
      "<class 'pandas.core.frame.DataFrame'>\n",
      "Int64Index: 242205 entries, 3 to 371538\n",
      "Data columns (total 17 columns):\n",
      " #   Column                     Non-Null Count   Dtype         \n",
      "---  ------                     --------------   -----         \n",
      " 0   Car_Seller_Type            242205 non-null  object        \n",
      " 1   Offer_Type                 242205 non-null  object        \n",
      " 2   Car_Price                  242205 non-null  float64       \n",
      " 3   Abtest_Type                242205 non-null  object        \n",
      " 4   Vehicle_Type               242205 non-null  object        \n",
      " 5   Year_of_Car_Registration   242205 non-null  float64       \n",
      " 6   Car_Transmission_Type      242205 non-null  object        \n",
      " 7   Car_Engine_Power_PS        242205 non-null  float64       \n",
      " 8   Car_Model                  242205 non-null  object        \n",
      " 9   Car_Mileage_Kilometer      242205 non-null  object        \n",
      " 10  Month_of_Car_Registration  242205 non-null  float64       \n",
      " 11  Fuel_Type                  242205 non-null  object        \n",
      " 12  Car_Brand                  242205 non-null  object        \n",
      " 13  UnRepaired_Damage          242205 non-null  object        \n",
      " 14  Date_Created               242205 non-null  datetime64[ns]\n",
      " 15  Seller_Postal_Code         242205 non-null  float64       \n",
      " 16  Date_LastSeen_Online       242205 non-null  datetime64[ns]\n",
      "dtypes: datetime64[ns](2), float64(5), object(10)\n",
      "memory usage: 33.3+ MB\n"
     ]
    }
   ],
   "source": [
    "autos_cleaned_df.info()"
   ]
  },
  {
   "cell_type": "code",
   "execution_count": 73,
   "metadata": {},
   "outputs": [
    {
     "data": {
      "text/html": [
       "<div>\n",
       "<style scoped>\n",
       "    .dataframe tbody tr th:only-of-type {\n",
       "        vertical-align: middle;\n",
       "    }\n",
       "\n",
       "    .dataframe tbody tr th {\n",
       "        vertical-align: top;\n",
       "    }\n",
       "\n",
       "    .dataframe thead th {\n",
       "        text-align: right;\n",
       "    }\n",
       "</style>\n",
       "<table border=\"1\" class=\"dataframe\">\n",
       "  <thead>\n",
       "    <tr style=\"text-align: right;\">\n",
       "      <th></th>\n",
       "      <th>Car_Seller_Type</th>\n",
       "      <th>Offer_Type</th>\n",
       "      <th>Car_Price</th>\n",
       "      <th>Abtest_Type</th>\n",
       "      <th>Vehicle_Type</th>\n",
       "      <th>Year_of_Car_Registration</th>\n",
       "      <th>Car_Transmission_Type</th>\n",
       "      <th>Car_Engine_Power_PS</th>\n",
       "      <th>Car_Model</th>\n",
       "      <th>Car_Mileage_Kilometer</th>\n",
       "      <th>Month_of_Car_Registration</th>\n",
       "      <th>Fuel_Type</th>\n",
       "      <th>Car_Brand</th>\n",
       "      <th>UnRepaired_Damage</th>\n",
       "      <th>Date_Created</th>\n",
       "      <th>Seller_Postal_Code</th>\n",
       "      <th>Date_LastSeen_Online</th>\n",
       "    </tr>\n",
       "  </thead>\n",
       "  <tbody>\n",
       "    <tr>\n",
       "      <th>3</th>\n",
       "      <td>private</td>\n",
       "      <td>offer</td>\n",
       "      <td>1500.0</td>\n",
       "      <td>test</td>\n",
       "      <td>small car</td>\n",
       "      <td>2001.0</td>\n",
       "      <td>manual</td>\n",
       "      <td>75.0</td>\n",
       "      <td>golf</td>\n",
       "      <td>150000</td>\n",
       "      <td>6.0</td>\n",
       "      <td>gas</td>\n",
       "      <td>volkswagen</td>\n",
       "      <td>no</td>\n",
       "      <td>2016-03-17</td>\n",
       "      <td>91074.0</td>\n",
       "      <td>2016-03-17 17:40:00</td>\n",
       "    </tr>\n",
       "    <tr>\n",
       "      <th>4</th>\n",
       "      <td>private</td>\n",
       "      <td>offer</td>\n",
       "      <td>3600.0</td>\n",
       "      <td>test</td>\n",
       "      <td>small car</td>\n",
       "      <td>2008.0</td>\n",
       "      <td>manual</td>\n",
       "      <td>69.0</td>\n",
       "      <td>fabia</td>\n",
       "      <td>90000</td>\n",
       "      <td>7.0</td>\n",
       "      <td>diesel</td>\n",
       "      <td>skoda</td>\n",
       "      <td>no</td>\n",
       "      <td>2016-03-31</td>\n",
       "      <td>60437.0</td>\n",
       "      <td>2016-06-04 10:17:00</td>\n",
       "    </tr>\n",
       "    <tr>\n",
       "      <th>5</th>\n",
       "      <td>private</td>\n",
       "      <td>offer</td>\n",
       "      <td>650.0</td>\n",
       "      <td>test</td>\n",
       "      <td>limousine</td>\n",
       "      <td>1995.0</td>\n",
       "      <td>manual</td>\n",
       "      <td>102.0</td>\n",
       "      <td>3er</td>\n",
       "      <td>150000</td>\n",
       "      <td>10.0</td>\n",
       "      <td>gas</td>\n",
       "      <td>bmw</td>\n",
       "      <td>yes</td>\n",
       "      <td>2016-04-04</td>\n",
       "      <td>33775.0</td>\n",
       "      <td>2016-06-04 19:17:00</td>\n",
       "    </tr>\n",
       "    <tr>\n",
       "      <th>6</th>\n",
       "      <td>private</td>\n",
       "      <td>offer</td>\n",
       "      <td>2200.0</td>\n",
       "      <td>test</td>\n",
       "      <td>cabrio</td>\n",
       "      <td>2004.0</td>\n",
       "      <td>manual</td>\n",
       "      <td>109.0</td>\n",
       "      <td>2_reihe</td>\n",
       "      <td>150000</td>\n",
       "      <td>8.0</td>\n",
       "      <td>gas</td>\n",
       "      <td>peugeot</td>\n",
       "      <td>no</td>\n",
       "      <td>2016-01-04</td>\n",
       "      <td>67112.0</td>\n",
       "      <td>2016-05-04 18:18:00</td>\n",
       "    </tr>\n",
       "    <tr>\n",
       "      <th>10</th>\n",
       "      <td>private</td>\n",
       "      <td>offer</td>\n",
       "      <td>2000.0</td>\n",
       "      <td>control</td>\n",
       "      <td>limousine</td>\n",
       "      <td>2004.0</td>\n",
       "      <td>manual</td>\n",
       "      <td>105.0</td>\n",
       "      <td>3_reihe</td>\n",
       "      <td>150000</td>\n",
       "      <td>12.0</td>\n",
       "      <td>gas</td>\n",
       "      <td>mazda</td>\n",
       "      <td>no</td>\n",
       "      <td>2016-03-26</td>\n",
       "      <td>96224.0</td>\n",
       "      <td>2016-06-04 10:45:00</td>\n",
       "    </tr>\n",
       "  </tbody>\n",
       "</table>\n",
       "</div>"
      ],
      "text/plain": [
       "   Car_Seller_Type Offer_Type  Car_Price Abtest_Type Vehicle_Type  \\\n",
       "3          private      offer     1500.0        test    small car   \n",
       "4          private      offer     3600.0        test    small car   \n",
       "5          private      offer      650.0        test    limousine   \n",
       "6          private      offer     2200.0        test       cabrio   \n",
       "10         private      offer     2000.0     control    limousine   \n",
       "\n",
       "    Year_of_Car_Registration Car_Transmission_Type  Car_Engine_Power_PS  \\\n",
       "3                     2001.0                manual                 75.0   \n",
       "4                     2008.0                manual                 69.0   \n",
       "5                     1995.0                manual                102.0   \n",
       "6                     2004.0                manual                109.0   \n",
       "10                    2004.0                manual                105.0   \n",
       "\n",
       "   Car_Model Car_Mileage_Kilometer  Month_of_Car_Registration Fuel_Type  \\\n",
       "3       golf                150000                        6.0       gas   \n",
       "4      fabia                 90000                        7.0    diesel   \n",
       "5        3er                150000                       10.0       gas   \n",
       "6    2_reihe                150000                        8.0       gas   \n",
       "10   3_reihe                150000                       12.0       gas   \n",
       "\n",
       "     Car_Brand UnRepaired_Damage Date_Created  Seller_Postal_Code  \\\n",
       "3   volkswagen                no   2016-03-17             91074.0   \n",
       "4        skoda                no   2016-03-31             60437.0   \n",
       "5          bmw               yes   2016-04-04             33775.0   \n",
       "6      peugeot                no   2016-01-04             67112.0   \n",
       "10       mazda                no   2016-03-26             96224.0   \n",
       "\n",
       "   Date_LastSeen_Online  \n",
       "3   2016-03-17 17:40:00  \n",
       "4   2016-06-04 10:17:00  \n",
       "5   2016-06-04 19:17:00  \n",
       "6   2016-05-04 18:18:00  \n",
       "10  2016-06-04 10:45:00  "
      ]
     },
     "execution_count": 73,
     "metadata": {},
     "output_type": "execute_result"
    }
   ],
   "source": [
    "autos_cleaned_df.head()"
   ]
  },
  {
   "cell_type": "code",
   "execution_count": 74,
   "metadata": {},
   "outputs": [],
   "source": [
    "autos_cleaned_df.to_csv(\"autos_cleaned_data.csv\", index=False)"
   ]
  },
  {
   "cell_type": "code",
   "execution_count": null,
   "metadata": {},
   "outputs": [],
   "source": []
  }
 ],
 "metadata": {
  "kernelspec": {
   "display_name": "Python 3",
   "language": "python",
   "name": "python3"
  },
  "language_info": {
   "codemirror_mode": {
    "name": "ipython",
    "version": 3
   },
   "file_extension": ".py",
   "mimetype": "text/x-python",
   "name": "python",
   "nbconvert_exporter": "python",
   "pygments_lexer": "ipython3",
   "version": "3.7.7"
  }
 },
 "nbformat": 4,
 "nbformat_minor": 2
}
